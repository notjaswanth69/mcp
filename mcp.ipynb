{
  "cells": [
    {
      "cell_type": "markdown",
      "metadata": {
        "id": "view-in-github",
        "colab_type": "text"
      },
      "source": [
        "<a href=\"https://colab.research.google.com/github/notjaswanth69/mcp/blob/main/mcp.ipynb\" target=\"_parent\"><img src=\"https://colab.research.google.com/assets/colab-badge.svg\" alt=\"Open In Colab\"/></a>"
      ]
    },
    {
      "cell_type": "code",
      "execution_count": null,
      "metadata": {
        "id": "IBfHlMD-njeu"
      },
      "outputs": [],
      "source": [
        "from tabulate import tabulate"
      ]
    },
    {
      "cell_type": "code",
      "execution_count": null,
      "metadata": {
        "colab": {
          "base_uri": "https://localhost:8080/"
        },
        "id": "uUW01-SOnsBd",
        "outputId": "8e5d254f-a363-4543-fdf7-ff560df93d04"
      },
      "outputs": [
        {
          "name": "stdout",
          "output_type": "stream",
          "text": [
            "x1    x2    w1   w2     t     O\n",
            "0     0     1     1     2     0\n",
            "0     1     1     1     2     0\n",
            "1     0     1     1     2     0\n",
            "1     1     1     1     2     1\n"
          ]
        }
      ],
      "source": [
        "x1 = [0, 0, 1, 1]\n",
        "x2 = [0, 1, 0, 1]\n",
        "w1 = [1, 1, 1, 1]\n",
        "w2 = [1, 1, 1, 1]\n",
        "t = 2\n",
        "print(\"x1    x2    w1   w2     t     O\")\n",
        "for i in range(len(x1)):\n",
        "    if ( x1[i]*w1[i] + x2[i]*w2[i] ) >= t:\n",
        "        print(x1[i],'   ',x2[i],'   ',w1[i],'   ',w2[i],'   ',t,'   ', 1)\n",
        "    else:\n",
        "        print(x1[i],'   ',x2[i],'   ',w1[i],'   ',w2[i],'   ',t,'   ', 0)"
      ]
    },
    {
      "cell_type": "code",
      "execution_count": null,
      "metadata": {
        "colab": {
          "base_uri": "https://localhost:8080/"
        },
        "id": "hBVNQbL7oZ5y",
        "outputId": "9fbade41-263c-4b96-bbc4-5177a47bb612"
      },
      "outputs": [
        {
          "name": "stdout",
          "output_type": "stream",
          "text": [
            "x1    x2    w1   w2     t     O\n",
            "0     0     1     1     1     0\n",
            "0     1     1     1     1     1\n",
            "1     0     1     1     1     1\n",
            "1     1     1     1     1     1\n"
          ]
        }
      ],
      "source": [
        "x1 = [0, 0, 1, 1]\n",
        "x2 = [0, 1, 0, 1]\n",
        "w1 = [1, 1, 1, 1]\n",
        "w2 = [1, 1, 1, 1]\n",
        "t = 1\n",
        "print(\"x1    x2    w1   w2     t     O\")\n",
        "for i in range(len(x1)):\n",
        "    if ( x1[i]*w1[i] + x2[i]*w2[i] ) >= t:\n",
        "        print(x1[i],'   ',x2[i],'   ',w1[i],'   ',w2[i],'   ',t,'   ', 1)\n",
        "    else:\n",
        "        print(x1[i],'   ',x2[i],'   ',w1[i],'   ',w2[i],'   ',t,'   ', 0)"
      ]
    },
    {
      "cell_type": "code",
      "execution_count": null,
      "metadata": {
        "colab": {
          "base_uri": "https://localhost:8080/"
        },
        "id": "0jdbPTc8pFrf",
        "outputId": "06f426e8-3851-4088-8df2-e13392c0380b"
      },
      "outputs": [
        {
          "name": "stdout",
          "output_type": "stream",
          "text": [
            "x      w     t     O\n",
            "0     1     0     1\n",
            "1     -1     0     0\n"
          ]
        }
      ],
      "source": [
        "x = [0, 1]\n",
        "w = [1, -1]\n",
        "t = 0\n",
        "print(\"x      w     t     O\")\n",
        "for i in range(len(x)):\n",
        "    if ( x[i]*w[i]) >= t:\n",
        "        print(x[i],'   ',w[i],'   ',t,'   ', 1)\n",
        "    else:\n",
        "        print(x[i],'   ',w[i],'   ',t,'   ', 0)"
      ]
    },
    {
      "cell_type": "code",
      "execution_count": null,
      "metadata": {
        "colab": {
          "base_uri": "https://localhost:8080/"
        },
        "id": "dA65MiO0rZLR",
        "outputId": "e8143b1a-5f8d-4ed6-833b-566e76552dd4"
      },
      "outputs": [
        {
          "name": "stdout",
          "output_type": "stream",
          "text": [
            "x1    x2    w1     w2      t     O\n",
            "0     0     -1     -1     -2     1\n",
            "0     1     -1     -1     -2     1\n",
            "1     0     -1     -1     -2     1\n",
            "1     1     -1     -1     -2     0\n"
          ]
        }
      ],
      "source": [
        "x1 = [0, 0, 1, 1]\n",
        "x2 = [0, 1, 0, 1]\n",
        "w1 = [-1, -1, -1, -1]\n",
        "w2 = [-1, -1, -1, -1]\n",
        "t = -2\n",
        "print(\"x1    x2    w1     w2      t     O\")\n",
        "for i in range(len(x1)):\n",
        "    if ( x1[i]*w1[i] + x2[i]*w2[i] ) > t:\n",
        "        print(x1[i],'   ',x2[i],'   ',w1[i],'   ',w2[i],'   ',t,'   ', 1)\n",
        "    else:\n",
        "        print(x1[i],'   ',x2[i],'   ',w1[i],'   ',w2[i],'   ',t,'   ', 0)"
      ]
    },
    {
      "cell_type": "code",
      "execution_count": null,
      "metadata": {
        "colab": {
          "base_uri": "https://localhost:8080/"
        },
        "id": "CfT9uyGns_-v",
        "outputId": "fc7cf220-f017-48cf-dc6e-90f262612280"
      },
      "outputs": [
        {
          "name": "stdout",
          "output_type": "stream",
          "text": [
            "x1    x2    w1   w2     t     O\n",
            "0     0     -1     -1     0     1\n",
            "0     1     -1     -1     0     0\n",
            "1     0     -1     -1     0     0\n",
            "1     1     -1     -1     0     0\n"
          ]
        }
      ],
      "source": [
        "x1 = [0, 0, 1, 1]\n",
        "x2 = [0, 1, 0, 1]\n",
        "w1 = [-1, -1, -1, -1]\n",
        "w2 = [-1, -1, -1, -1]\n",
        "t = 0\n",
        "print(\"x1    x2    w1   w2     t     O\")\n",
        "for i in range(len(x1)):\n",
        "    if ( x1[i]*w1[i] + x2[i]*w2[i] ) >= t:\n",
        "        print(x1[i],'   ',x2[i],'   ',w1[i],'   ',w2[i],'   ',t,'   ', 1)\n",
        "    else:\n",
        "        print(x1[i],'   ',x2[i],'   ',w1[i],'   ',w2[i],'   ',t,'   ', 0)"
      ]
    },
    {
      "cell_type": "code",
      "execution_count": null,
      "metadata": {
        "colab": {
          "background_save": true
        },
        "id": "vbmtG00Dd1KS",
        "outputId": "f80ff3a7-2769-428e-9e8c-5b11ad06d275"
      },
      "outputs": [
        {
          "name": "stdout",
          "output_type": "stream",
          "text": [
            "x1    x2    w1    w2    w3     w4    w5     w6    t1        t2      t3     O\n",
            "0     0     1     1     1     -1     -1     1     0.5     -1.5     1.5     0\n",
            "0     1     1     1     1     -1     -1     1     0.5     -1.5     1.5     1\n",
            "1     0     1     1     1     -1     -1     1     0.5     -1.5     1.5     1\n",
            "1     1     1     1     1     -1     -1     1     0.5     -1.5     1.5     0\n"
          ]
        }
      ],
      "source": [
        "x1 = [0, 0, 1, 1]\n",
        "x2 = [0, 1, 0, 1]\n",
        "w1 = [1, 1, 1, 1]\n",
        "w2 = [1, 1, 1, 1]\n",
        "w3 = [1, 1, 1, 1]\n",
        "w4 = [-1, -1, -1, -1]\n",
        "w5 = [-1, -1, -1, -1]\n",
        "w6 = [1, 1, 1, 1]\n",
        "t1 = [0.5,0.5,0.5,0.5]\n",
        "t2 = [-1.5,-1.5,-1.5,-1.5]\n",
        "t3 = [1.5,1.5,1.5,1.5]\n",
        "def XOR (a, b):\n",
        "    if a != b:\n",
        "        return 1\n",
        "    else:\n",
        "        return 0\n",
        "print('x1    x2    w1    w2    w3     w4    w5     w6    t1        t2      t3     O')\n",
        "for i in range(len(x1)):\n",
        "    print(x1[i],'   ',x2[i],'   ',w1[i],'   ',w2[i],'   ',w3[i],'   ',w4[i],'   ',w5[i],'   ',w6[i],'   ',t1[i],'   ',t2[i],'   ',t3[i],'   ',XOR(x1[i],x2[i]))"
      ]
    }
  ],
  "metadata": {
    "colab": {
      "provenance": [],
      "authorship_tag": "ABX9TyPeranXWBmD6YbJtDyFfh9M",
      "include_colab_link": true
    },
    "kernelspec": {
      "display_name": "Python 3",
      "name": "python3"
    },
    "language_info": {
      "name": "python"
    }
  },
  "nbformat": 4,
  "nbformat_minor": 0
}